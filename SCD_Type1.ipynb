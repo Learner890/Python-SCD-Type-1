{
  "nbformat": 4,
  "nbformat_minor": 0,
  "metadata": {
    "colab": {
      "provenance": [],
      "authorship_tag": "ABX9TyM1Km8O2RR0PNqTqq/xmsHY",
      "include_colab_link": true
    },
    "kernelspec": {
      "name": "python3",
      "display_name": "Python 3"
    },
    "language_info": {
      "name": "python"
    }
  },
  "cells": [
    {
      "cell_type": "markdown",
      "metadata": {
        "id": "view-in-github",
        "colab_type": "text"
      },
      "source": [
        "<a href=\"https://colab.research.google.com/github/Learner890/Python-SCD-Type-1/blob/main/SCD_Type1.ipynb\" target=\"_parent\"><img src=\"https://colab.research.google.com/assets/colab-badge.svg\" alt=\"Open In Colab\"/></a>"
      ]
    },
    {
      "cell_type": "code",
      "execution_count": null,
      "metadata": {
        "id": "MAqqLYLLFkab"
      },
      "outputs": [],
      "source": [
        "import pandas as pd\n",
        "import sqlalchemy as sal\n",
        "engine=sal.create_engine('mssql://LAPTOP-P5QL3BL8\\SQLEXPRESS/master?driver=ODBC+DRIVER+11+FOR+SQL+SERVER',future=True)\n",
        "conn=engine.connect()"
      ]
    },
    {
      "cell_type": "code",
      "source": [
        "def extract():\n",
        "    df_orders=pd.read_csv(R'C:\\Users\\nisha\\Downloads\\orders.txt')\n",
        "    df_returns=pd.read_csv(R'C:\\Users\\nisha\\Downloads\\returns.txt')\n",
        "    return df_orders,df_returns\n",
        "\n",
        "def transform(df_orders,df_returns):\n",
        "    df_tranformed=pd.merge(df_orders,df_returns,how='inner',left_on='order_id',right_on='Order Id')\n",
        "    return df_tranformed\n",
        "\n",
        "def load(df_tranformed):\n",
        "    df_tranformed.to_sql('Order_Final',con=conn,index=False,if_exists='replace')\n",
        "    conn.commit()"
      ],
      "metadata": {
        "id": "TkfWBXVpFzFk"
      },
      "execution_count": null,
      "outputs": []
    },
    {
      "cell_type": "code",
      "source": [
        "df_orders,df_returns=extract()\n",
        "df_tranformed=transform(df_orders,df_returns)\n",
        "load(df_tranformed)\n",
        "#print(df_orders,df_returns)"
      ],
      "metadata": {
        "id": "Udh962AJF27L"
      },
      "execution_count": null,
      "outputs": []
    },
    {
      "cell_type": "code",
      "source": [
        "def prod_extract():\n",
        "    df_product=pd.read_csv(R'C:\\Users\\nisha\\Downloads\\products.txt')\n",
        "    return df_product\n",
        "def prod_load(df_product):\n",
        "    df_product.to_sql('Products',con=conn,index=False,if_exists='replace')\n",
        "    conn.commit()"
      ],
      "metadata": {
        "id": "HiXOHEa6F3zI"
      },
      "execution_count": null,
      "outputs": []
    },
    {
      "cell_type": "code",
      "source": [
        "def extract():\n",
        "    df_product=pd.read_csv(R'C:\\Users\\nisha\\Downloads\\products.txt')\n",
        "    df_product_sql=pd.read_sql_query('SELECT * FROM Products',conn)\n",
        "    return df_product,df_product_sql\n",
        "\n",
        "def transform(df_product,df_product_sql):\n",
        "    df_merged=pd.merge(df_product,df_product_sql,how='left',on='product_id')\n",
        "    df_insert=df_merged[df_merged['product_name_y'].isna()]\n",
        "    df_insert_final=df_insert.iloc[:,0:3]\n",
        "    df_insert_final.columns=df_product_sql.columns\n",
        "    df_update=df_merged[df_merged['product_name_y'].notna()]\n",
        "    df_update_final=df_update.iloc[:,0:3]\n",
        "    df_update_final.columns=df_product_sql.columns\n",
        "    return df_insert_final,df_update_final\n",
        "    #df_insert=df_merged[df_merged[]]\n",
        "\n",
        "def load_stage(df_update_final):\n",
        "    delete_table=sal.text(\"truncate table Products_Stg\")\n",
        "    command=conn.execute(delete_table)\n",
        "    conn.commit()\n",
        "    df_update_final.to_sql('Products_Stg',con=conn,index=False,if_exists='append')\n",
        "    conn.commit()\n",
        "\n",
        "def update():\n",
        "    query=sal.text(\"update Products set price=Products_stg.price from Products_stg where Products.product_id=Products_stg.product_id\")\n",
        "    execute=conn.execute(query)\n",
        "    conn.commit()\n",
        "\n",
        "def insert(df_insert_final):\n",
        "    df_insert_final.to_sql('Products',con=conn,index=False,if_exists='append')\n",
        "    conn.commit()"
      ],
      "metadata": {
        "id": "zryBFmcMF7Lp"
      },
      "execution_count": null,
      "outputs": []
    },
    {
      "cell_type": "code",
      "source": [
        "df_product,df_product_sql=extract()\n",
        "df_insert_final,df_update=transform(df_product,df_product_sql)\n",
        "df_upd_final=load_stage(df_update)\n",
        "update()\n",
        "insert(df_insert_final)\n",
        "load_stage(df_update)\n",
        "#load(df_output)\n",
        "#df_output"
      ],
      "metadata": {
        "id": "J20hx-kdF-Q9"
      },
      "execution_count": null,
      "outputs": []
    }
  ]
}